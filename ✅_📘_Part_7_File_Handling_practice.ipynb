{
  "nbformat": 4,
  "nbformat_minor": 0,
  "metadata": {
    "colab": {
      "provenance": []
    },
    "kernelspec": {
      "name": "python3",
      "display_name": "Python 3"
    },
    "language_info": {
      "name": "python"
    }
  },
  "cells": [
    {
      "cell_type": "code",
      "source": [
        "fd = open('sample.txt','w')\n",
        "fd.write('this is the sample line')\n",
        "fd.close()"
      ],
      "metadata": {
        "id": "apQTaclSIVDG"
      },
      "execution_count": null,
      "outputs": []
    },
    {
      "cell_type": "code",
      "source": [
        "with open('example.txt', 'w') as fd:\n",
        "    fd.write(\"Hello!\\nWelcome to file handling.\\nThis is a sample file.\")"
      ],
      "metadata": {
        "id": "cfQk4bsxJIY7"
      },
      "execution_count": null,
      "outputs": []
    },
    {
      "cell_type": "code",
      "source": [
        "fw = open('trail.txt','w')\n",
        "fw.write('Hello\\nGood Morning\\nSentences1\\nSentences2\\nSentences3....')\n",
        "fw.close()"
      ],
      "metadata": {
        "id": "A6RPD6JUJZ3G"
      },
      "execution_count": null,
      "outputs": []
    },
    {
      "cell_type": "code",
      "source": [
        "fr = open('trail.txt','r')\n",
        "text = fr.read()\n",
        "print(text)\n",
        "fr.close()"
      ],
      "metadata": {
        "colab": {
          "base_uri": "https://localhost:8080/"
        },
        "id": "pNp81xPDLNzF",
        "outputId": "43ea3b48-21b9-4bcf-ea79-ca30a8a5efde"
      },
      "execution_count": null,
      "outputs": [
        {
          "output_type": "stream",
          "name": "stdout",
          "text": [
            "Hello\n",
            "Good Morning\n",
            "Sentences1\n",
            "Sentences2\n",
            "Sentences3....\n"
          ]
        }
      ]
    },
    {
      "cell_type": "code",
      "source": [
        "# 'sample 1'\n",
        "# 'sample 2'\n",
        "# 'sample 3'\n",
        "# 'sample 4'"
      ],
      "metadata": {
        "id": "PUu2Df5HLqgi"
      },
      "execution_count": null,
      "outputs": []
    },
    {
      "cell_type": "code",
      "source": [
        "# 'sample 1'"
      ],
      "metadata": {
        "id": "RqnZ7MBzMdJt"
      },
      "execution_count": null,
      "outputs": []
    },
    {
      "cell_type": "code",
      "source": [
        "text"
      ],
      "metadata": {
        "colab": {
          "base_uri": "https://localhost:8080/",
          "height": 36
        },
        "id": "imgOrvk9MNjg",
        "outputId": "be8d16f9-1317-4d5d-c38f-537553f03684"
      },
      "execution_count": null,
      "outputs": [
        {
          "output_type": "execute_result",
          "data": {
            "text/plain": [
              "'Hello\\nGood Morning\\nSentences1\\nSentences2\\nSentences3....'"
            ],
            "application/vnd.google.colaboratory.intrinsic+json": {
              "type": "string"
            }
          },
          "metadata": {},
          "execution_count": 21
        }
      ]
    },
    {
      "cell_type": "code",
      "source": [
        "file_1 = open('trail.txt','a')\n",
        "file_1.write('\\nsample 1\\nsample 2\\nsample 3\\nsample 4')\n",
        "file_1.close()"
      ],
      "metadata": {
        "id": "cz9ClU3qLwx2"
      },
      "execution_count": null,
      "outputs": []
    },
    {
      "cell_type": "code",
      "source": [
        "with open('lines.txt', 'w') as f:\n",
        "    f.write(\"Line 1\\nLine 2\\nLine 3\")"
      ],
      "metadata": {
        "id": "Z92lJbtfVJjf"
      },
      "execution_count": null,
      "outputs": []
    },
    {
      "cell_type": "code",
      "source": [
        "# Read one line at a time\n",
        "with open('lines.txt', 'r') as f:\n",
        "    print(f.readline())\n",
        "    print(f.readline())\n",
        "    print(f.readline())"
      ],
      "metadata": {
        "colab": {
          "base_uri": "https://localhost:8080/"
        },
        "id": "MtSwdEqbVRpT",
        "outputId": "72b6b3d9-d716-4597-bfa1-88119265fda2"
      },
      "execution_count": null,
      "outputs": [
        {
          "output_type": "stream",
          "name": "stdout",
          "text": [
            "Line 1\n",
            "\n",
            "Line 2\n",
            "\n",
            "Line 3\n"
          ]
        }
      ]
    },
    {
      "cell_type": "code",
      "source": [
        "with open('lines.txt', 'r') as f:\n",
        "    lines = f.readlines()\n",
        "    print(lines)"
      ],
      "metadata": {
        "colab": {
          "base_uri": "https://localhost:8080/"
        },
        "id": "d3Fl18nUVemB",
        "outputId": "d741c25c-16c5-4c70-9a1a-e930ed62a18f"
      },
      "execution_count": null,
      "outputs": [
        {
          "output_type": "stream",
          "name": "stdout",
          "text": [
            "['Line 1\\n', 'Line 2\\n', 'Line 3']\n"
          ]
        }
      ]
    },
    {
      "cell_type": "code",
      "source": [
        "with open('lines.txt', 'r') as f:\n",
        "    lines = f.readlines()\n",
        "    print(type(lines))\n",
        "    for j in lines:\n",
        "      print(j)"
      ],
      "metadata": {
        "colab": {
          "base_uri": "https://localhost:8080/"
        },
        "id": "AnXd66MhVjuJ",
        "outputId": "354a7153-5910-45ce-de08-d4fe96c8631d"
      },
      "execution_count": null,
      "outputs": [
        {
          "output_type": "stream",
          "name": "stdout",
          "text": [
            "<class 'list'>\n",
            "Line 1\n",
            "\n",
            "Line 2\n",
            "\n",
            "Line 3\n"
          ]
        }
      ]
    },
    {
      "cell_type": "markdown",
      "source": [
        "# **1️⃣ Reading Text Files**\n",
        "\n",
        "✅ Theory\n",
        "\n",
        "open() → open a file.\n",
        "\n",
        ".read() → read entire file content as a string.\n",
        "\n",
        "✅ Code Example"
      ],
      "metadata": {
        "id": "Hns7cPHk41cK"
      }
    },
    {
      "cell_type": "code",
      "execution_count": null,
      "metadata": {
        "colab": {
          "base_uri": "https://localhost:8080/"
        },
        "id": "DjnXNnJg2xlZ",
        "outputId": "def5b11b-023e-4314-e204-6ebeee5ee3a6"
      },
      "outputs": [
        {
          "output_type": "stream",
          "name": "stdout",
          "text": [
            "Hello!\n",
            "Welcome to file handling.\n",
            "This is a sample file.\n"
          ]
        }
      ],
      "source": [
        "# Create a file for demo\n",
        "with open('example.txt', 'w') as f:\n",
        "    f.write(\"Hello!\\nWelcome to file handling.\\nThis is a sample file.\")\n",
        "\n",
        "# Read entire content\n",
        "file = open('example.txt', 'r')\n",
        "content = file.read()\n",
        "print(content)\n",
        "file.close()"
      ]
    },
    {
      "cell_type": "markdown",
      "source": [
        "# **2️⃣ Appending and Writing Text Files**\n",
        "✅ Theory\n",
        "\n",
        "'w' mode → write to file (overwrites)\n",
        "\n",
        "'a' mode → append to file\n",
        "\n",
        ".write() → writes string\n",
        "\n",
        "✅ Code Example"
      ],
      "metadata": {
        "id": "gzrNnWvd5Nyh"
      }
    },
    {
      "cell_type": "code",
      "source": [
        "# Append new content\n",
        "file = open('example.txt', 'a')\n",
        "file.write(\"Appending the file.\")\n",
        "file.close()\n",
        "\n",
        "# Verify\n",
        "with open('example.txt', 'r') as f:\n",
        "    print(f.read())\n",
        "\n",
        "print('--------------------------------------------------')\n",
        "\n",
        "# Write new content\n",
        "file = open('example.txt', 'w')\n",
        "file.write(\"Overwriting the file.\")\n",
        "file.close()\n",
        "\n",
        "# Verify\n",
        "with open('example.txt', 'r') as f:\n",
        "    print(f.read())"
      ],
      "metadata": {
        "colab": {
          "base_uri": "https://localhost:8080/"
        },
        "id": "20WrJ5lb5EmL",
        "outputId": "7a55f888-9330-4c43-ce5b-68c353433972"
      },
      "execution_count": null,
      "outputs": [
        {
          "output_type": "stream",
          "name": "stdout",
          "text": [
            "Hello!\n",
            "Welcome to file handling.\n",
            "This is a sample file.Appending the file.\n",
            "--------------------------------------------------\n",
            "Overwriting the file.\n"
          ]
        }
      ]
    },
    {
      "cell_type": "markdown",
      "source": [
        "# **3️⃣ Using with Statement**\n",
        "\n",
        "✅ Theory\n",
        "\n",
        "with open(...) as f: → best practice.\n",
        "\n",
        "Auto closes file — no close() needed.\n",
        "\n",
        "✅ Code Example"
      ],
      "metadata": {
        "id": "RBpu4LH-6dcp"
      }
    },
    {
      "cell_type": "code",
      "source": [
        "with open('example.txt', 'w') as f:\n",
        "    f.write(\"Using with statement.\\nAutomatic close!\")\n",
        "\n",
        "with open('example.txt', 'r') as f:\n",
        "    print(f.read())"
      ],
      "metadata": {
        "colab": {
          "base_uri": "https://localhost:8080/"
        },
        "id": "Z7OmvTHw6J0y",
        "outputId": "a915402b-59c8-4831-8978-ed0d5c62f859"
      },
      "execution_count": null,
      "outputs": [
        {
          "output_type": "stream",
          "name": "stdout",
          "text": [
            "Using with statement.\n",
            "Automatic close!\n"
          ]
        }
      ]
    },
    {
      "cell_type": "markdown",
      "source": [
        "# **4️⃣ Reading Line by Line**\n",
        "\n",
        "✅ Theory\n",
        "\n",
        ".readline() → reads one line.\n",
        "\n",
        ".readlines() → reads all lines into a list.\n",
        "\n",
        "✅ Code Example"
      ],
      "metadata": {
        "id": "3y3FLa1I6oMB"
      }
    },
    {
      "cell_type": "code",
      "source": [
        "# Create multi-line file\n",
        "with open('lines.txt', 'w') as f:\n",
        "    f.write(\"Line 1\\nLine 2\\nLine 3\")\n",
        "\n",
        "# Read one line at a time\n",
        "with open('lines.txt', 'r') as f:\n",
        "    print(f.readline())\n",
        "    print(f.readline())\n",
        "\n",
        "# Read all lines\n",
        "with open('lines.txt', 'r') as f:\n",
        "    lines = f.readlines()\n",
        "    print(lines)"
      ],
      "metadata": {
        "colab": {
          "base_uri": "https://localhost:8080/"
        },
        "id": "4mNiDiK76lP6",
        "outputId": "4f96c2d1-8a14-4e64-f040-c2d194c82f31"
      },
      "execution_count": null,
      "outputs": [
        {
          "output_type": "stream",
          "name": "stdout",
          "text": [
            "Line 1\n",
            "\n",
            "Line 2\n",
            "\n",
            "['Line 1\\n', 'Line 2\\n', 'Line 3']\n"
          ]
        }
      ]
    },
    {
      "cell_type": "markdown",
      "source": [
        "# **5️⃣ Practice**\n",
        "\n",
        "- Create students.txt — add student names & marks.\n",
        "\n",
        "- Read the file and print each student’s marks.\n",
        "\n",
        "- Add a new student name and his/her mark using append."
      ],
      "metadata": {
        "id": "k4rhBVbq6-hJ"
      }
    },
    {
      "cell_type": "code",
      "source": [
        "# Create students-English marks file\n",
        "with open('students.txt', 'w') as f:\n",
        "    f.write(\"Aarya - 98\\nAdvik - 85 \\nCharvik - 90\\n\")\n",
        "\n",
        "    # Read one line at a time\n",
        "with open('students.txt', 'r') as f:\n",
        "    print(f.readline())\n",
        "    print(f.readline())\n",
        "    print(f.readline())"
      ],
      "metadata": {
        "colab": {
          "base_uri": "https://localhost:8080/"
        },
        "id": "Tg4-e3tMsJjb",
        "outputId": "fd7229e0-0172-4d9e-c566-7a5294ed17df"
      },
      "execution_count": null,
      "outputs": [
        {
          "output_type": "stream",
          "name": "stdout",
          "text": [
            "Aarya - 98\n",
            "\n",
            "Advik - 85 \n",
            "\n",
            "Charvik - 90\n",
            "\n"
          ]
        }
      ]
    },
    {
      "cell_type": "code",
      "source": [
        "#Add a new student name and his/her mark using append\n",
        "file = open('students.txt', 'a')\n",
        "file.write(\"Diya - 79\\nSumhit - 75\\n\")\n",
        "file.close()\n",
        "\n",
        "#read one line at a time.\n",
        "with open('students.txt', 'r') as f:\n",
        "    print(f.read())\n"
      ],
      "metadata": {
        "colab": {
          "base_uri": "https://localhost:8080/"
        },
        "id": "3UkiU9vLuxIR",
        "outputId": "4f32b34d-e34d-4c69-f081-88879814af09"
      },
      "execution_count": null,
      "outputs": [
        {
          "output_type": "stream",
          "name": "stdout",
          "text": [
            "Aarya - 98\n",
            "Advik - 85 \n",
            "Charvik - 90\n",
            "Diya - 79\n",
            "Sumhit - 75\n",
            "\n"
          ]
        }
      ]
    },
    {
      "cell_type": "markdown",
      "source": [
        "# **6️⃣ Quiz**\n",
        "\n",
        "1️⃣ Which mode is used to append data to a file?\n",
        "\n",
        "2️⃣ What does readlines() return?"
      ],
      "metadata": {
        "id": "LiW3iq0T7nY5"
      }
    },
    {
      "cell_type": "markdown",
      "source": [
        "\n",
        "**1. We use the \"a\" mode to append data to a file.**\n",
        "\n",
        "**2. readlines() returns list of strings in one line.**\n",
        "\n",
        "\n"
      ],
      "metadata": {
        "id": "1QrE1zmcLn5a"
      }
    },
    {
      "cell_type": "code",
      "source": [],
      "metadata": {
        "id": "EwDSravJNC-i"
      },
      "execution_count": null,
      "outputs": []
    }
  ]
}